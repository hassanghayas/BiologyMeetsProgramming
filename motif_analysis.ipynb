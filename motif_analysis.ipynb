{
 "cells": [
  {
   "cell_type": "markdown",
   "id": "9a5f03b0-1856-47a4-8d59-eef26d4003c0",
   "metadata": {},
   "source": [
    "# DNA Motif analysis using motif module"
   ]
  },
  {
   "cell_type": "markdown",
   "id": "b416788d-5a15-40c6-987d-5e80046e94e9",
   "metadata": {},
   "source": [
    "This notebook provides a basic implementation and analysis of DNA motifs using Python.\n",
    "\n",
    "### Objectives:\n",
    "- Build a **count matrix** to track nucleotide occurrences at each motif position.\n",
    "- Generate a **profile matrix** to compute nucleotide frequencies.\n",
    "- Determine the **consensus sequence**, which represents the most common nucleotides across motifs.\n",
    "\n",
    "### Contents:\n",
    "- Loading motif data\n",
    "- Computing the count matrix\n",
    "- Calculating the profile matrix\n",
    "- Extracting the consensus motif\n",
    "- (Optional) Visualizing the matrices for better interpretation\n",
    "\n",
    "This notebook is intended as a foundation for motif discovery tasks in bioinformatics and can be extended to include scoring functions, pseudocounts, motif search in sequences, and more.\n",
    "\n",
    "Count, Profile, Consensus function can be imported from motif.py file in the bin folder.\n"
   ]
  },
  {
   "cell_type": "code",
   "execution_count": 1,
   "id": "e3729514-db8a-47d7-8a66-982eda9eb779",
   "metadata": {},
   "outputs": [],
   "source": [
    "import bin.motif as mt"
   ]
  },
  {
   "cell_type": "code",
   "execution_count": 2,
   "id": "e3af17b4-8871-43bc-83be-db4783e304cb",
   "metadata": {},
   "outputs": [],
   "source": [
    "# create list of DNA motifs\n",
    "Motifs = [\n",
    "    \"TCGGGGGTTTTT\",\n",
    "    \"CCGGTGACTTAC\",\n",
    "    \"ACGGGGATTTTC\",\n",
    "    \"TTGGGGACTTTT\",\n",
    "    \"AAGGGGACTTCC\",\n",
    "    \"TTGGGGACTTCC\",\n",
    "    \"TCGGGGATTCAT\",\n",
    "    \"TCGGGGATTCCT\",\n",
    "    \"TAGGGGAACTAC\",\n",
    "    \"TCGGGTATAACC\"\n",
    "]"
   ]
  },
  {
   "cell_type": "code",
   "execution_count": 4,
   "id": "73c7a624-05d2-41c4-a2d2-dc5661a780e1",
   "metadata": {},
   "outputs": [],
   "source": [
    "motif_count = mt.Count(Motifs)"
   ]
  },
  {
   "cell_type": "code",
   "execution_count": 5,
   "id": "854693f8-d58d-44be-b1d2-c937b8bf4237",
   "metadata": {},
   "outputs": [
    {
     "data": {
      "text/plain": [
       "{'A': [2, 2, 0, 0, 0, 0, 9, 1, 1, 1, 3, 0],\n",
       " 'C': [1, 6, 0, 0, 0, 0, 0, 4, 1, 2, 4, 6],\n",
       " 'G': [0, 0, 10, 10, 9, 9, 1, 0, 0, 0, 0, 0],\n",
       " 'T': [7, 2, 0, 0, 1, 1, 0, 5, 8, 7, 3, 4]}"
      ]
     },
     "execution_count": 5,
     "metadata": {},
     "output_type": "execute_result"
    }
   ],
   "source": [
    "motif_count"
   ]
  },
  {
   "cell_type": "markdown",
   "id": "fbd4a611-0afa-4474-a663-ebc9a9f38fa2",
   "metadata": {},
   "source": [
    "#### Visulaization of count matix\n",
    "for better visulaization of count matrix we can use pandas module to convert count matrix dictionary into data fram"
   ]
  },
  {
   "cell_type": "code",
   "execution_count": 8,
   "id": "6996e6e7-8c25-4780-9280-fa4e69038e7e",
   "metadata": {},
   "outputs": [],
   "source": [
    "import pandas as pd"
   ]
  },
  {
   "cell_type": "code",
   "execution_count": 9,
   "id": "9bcc33b7-cd58-4dbb-8153-0d1a9bdb90c7",
   "metadata": {},
   "outputs": [],
   "source": [
    "motif_df = pd.DataFrame(motif_count).T"
   ]
  },
  {
   "cell_type": "code",
   "execution_count": 10,
   "id": "43b55af1-2455-45df-a4bc-98e2a42d518c",
   "metadata": {},
   "outputs": [
    {
     "data": {
      "text/html": [
       "<div>\n",
       "<style scoped>\n",
       "    .dataframe tbody tr th:only-of-type {\n",
       "        vertical-align: middle;\n",
       "    }\n",
       "\n",
       "    .dataframe tbody tr th {\n",
       "        vertical-align: top;\n",
       "    }\n",
       "\n",
       "    .dataframe thead th {\n",
       "        text-align: right;\n",
       "    }\n",
       "</style>\n",
       "<table border=\"1\" class=\"dataframe\">\n",
       "  <thead>\n",
       "    <tr style=\"text-align: right;\">\n",
       "      <th></th>\n",
       "      <th>0</th>\n",
       "      <th>1</th>\n",
       "      <th>2</th>\n",
       "      <th>3</th>\n",
       "      <th>4</th>\n",
       "      <th>5</th>\n",
       "      <th>6</th>\n",
       "      <th>7</th>\n",
       "      <th>8</th>\n",
       "      <th>9</th>\n",
       "      <th>10</th>\n",
       "      <th>11</th>\n",
       "    </tr>\n",
       "  </thead>\n",
       "  <tbody>\n",
       "    <tr>\n",
       "      <th>A</th>\n",
       "      <td>2</td>\n",
       "      <td>2</td>\n",
       "      <td>0</td>\n",
       "      <td>0</td>\n",
       "      <td>0</td>\n",
       "      <td>0</td>\n",
       "      <td>9</td>\n",
       "      <td>1</td>\n",
       "      <td>1</td>\n",
       "      <td>1</td>\n",
       "      <td>3</td>\n",
       "      <td>0</td>\n",
       "    </tr>\n",
       "    <tr>\n",
       "      <th>C</th>\n",
       "      <td>1</td>\n",
       "      <td>6</td>\n",
       "      <td>0</td>\n",
       "      <td>0</td>\n",
       "      <td>0</td>\n",
       "      <td>0</td>\n",
       "      <td>0</td>\n",
       "      <td>4</td>\n",
       "      <td>1</td>\n",
       "      <td>2</td>\n",
       "      <td>4</td>\n",
       "      <td>6</td>\n",
       "    </tr>\n",
       "    <tr>\n",
       "      <th>G</th>\n",
       "      <td>0</td>\n",
       "      <td>0</td>\n",
       "      <td>10</td>\n",
       "      <td>10</td>\n",
       "      <td>9</td>\n",
       "      <td>9</td>\n",
       "      <td>1</td>\n",
       "      <td>0</td>\n",
       "      <td>0</td>\n",
       "      <td>0</td>\n",
       "      <td>0</td>\n",
       "      <td>0</td>\n",
       "    </tr>\n",
       "    <tr>\n",
       "      <th>T</th>\n",
       "      <td>7</td>\n",
       "      <td>2</td>\n",
       "      <td>0</td>\n",
       "      <td>0</td>\n",
       "      <td>1</td>\n",
       "      <td>1</td>\n",
       "      <td>0</td>\n",
       "      <td>5</td>\n",
       "      <td>8</td>\n",
       "      <td>7</td>\n",
       "      <td>3</td>\n",
       "      <td>4</td>\n",
       "    </tr>\n",
       "  </tbody>\n",
       "</table>\n",
       "</div>"
      ],
      "text/plain": [
       "   0   1   2   3   4   5   6   7   8   9   10  11\n",
       "A   2   2   0   0   0   0   9   1   1   1   3   0\n",
       "C   1   6   0   0   0   0   0   4   1   2   4   6\n",
       "G   0   0  10  10   9   9   1   0   0   0   0   0\n",
       "T   7   2   0   0   1   1   0   5   8   7   3   4"
      ]
     },
     "execution_count": 10,
     "metadata": {},
     "output_type": "execute_result"
    }
   ],
   "source": [
    "motif_df"
   ]
  },
  {
   "cell_type": "code",
   "execution_count": 7,
   "id": "1460fd9c-3438-4f3b-ad66-ed973a0b9929",
   "metadata": {},
   "outputs": [
    {
     "data": {
      "text/plain": [
       "{'A': [0.2, 0.2, 0.0, 0.0, 0.0, 0.0, 0.9, 0.1, 0.1, 0.1, 0.3, 0.0],\n",
       " 'C': [0.1, 0.6, 0.0, 0.0, 0.0, 0.0, 0.0, 0.4, 0.1, 0.2, 0.4, 0.6],\n",
       " 'G': [0.0, 0.0, 1.0, 1.0, 0.9, 0.9, 0.1, 0.0, 0.0, 0.0, 0.0, 0.0],\n",
       " 'T': [0.7, 0.2, 0.0, 0.0, 0.1, 0.1, 0.0, 0.5, 0.8, 0.7, 0.3, 0.4]}"
      ]
     },
     "execution_count": 7,
     "metadata": {},
     "output_type": "execute_result"
    }
   ],
   "source": [
    "mt.Profile(Motifs)"
   ]
  },
  {
   "cell_type": "code",
   "execution_count": 8,
   "id": "35a4b3ae-b4ff-406b-bab3-c13a5957f8fd",
   "metadata": {},
   "outputs": [
    {
     "data": {
      "text/plain": [
       "'TCGGGGATTTCC'"
      ]
     },
     "execution_count": 8,
     "metadata": {},
     "output_type": "execute_result"
    }
   ],
   "source": [
    "mt.Consensus(Motifs)"
   ]
  },
  {
   "cell_type": "code",
   "execution_count": 9,
   "id": "81b0771a-ad2f-4e38-ae26-1e989e29a79b",
   "metadata": {},
   "outputs": [
    {
     "data": {
      "text/plain": [
       "30"
      ]
     },
     "execution_count": 9,
     "metadata": {},
     "output_type": "execute_result"
    }
   ],
   "source": [
    "mt.Score(Motifs)"
   ]
  },
  {
   "cell_type": "code",
   "execution_count": 10,
   "id": "0f0e798d-37be-4c87-b784-737e9bf896ad",
   "metadata": {},
   "outputs": [
    {
     "data": {
      "text/plain": [
       "9.916290005356972"
      ]
     },
     "execution_count": 10,
     "metadata": {},
     "output_type": "execute_result"
    }
   ],
   "source": [
    "mt.Entropy(Motifs)"
   ]
  },
  {
   "cell_type": "code",
   "execution_count": null,
   "id": "452eec10-2d3c-4b34-9803-154f6d3e0ef6",
   "metadata": {},
   "outputs": [],
   "source": []
  }
 ],
 "metadata": {
  "kernelspec": {
   "display_name": "Python 3 (ipykernel)",
   "language": "python",
   "name": "python3"
  },
  "language_info": {
   "codemirror_mode": {
    "name": "ipython",
    "version": 3
   },
   "file_extension": ".py",
   "mimetype": "text/x-python",
   "name": "python",
   "nbconvert_exporter": "python",
   "pygments_lexer": "ipython3",
   "version": "3.11.1"
  }
 },
 "nbformat": 4,
 "nbformat_minor": 5
}
