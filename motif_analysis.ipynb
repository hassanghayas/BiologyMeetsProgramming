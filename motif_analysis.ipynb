{
 "cells": [
  {
   "cell_type": "markdown",
   "id": "9a5f03b0-1856-47a4-8d59-eef26d4003c0",
   "metadata": {},
   "source": [
    "# DNA Motif analysis using motif module"
   ]
  },
  {
   "cell_type": "markdown",
   "id": "b416788d-5a15-40c6-987d-5e80046e94e9",
   "metadata": {},
   "source": [
    "This notebook provides a basic implementation and analysis of DNA motifs using Python.\n",
    "\n",
    "### Objectives:\n",
    "- Build a **count matrix** to track nucleotide occurrences at each motif position.\n",
    "- Generate a **profile matrix** to compute nucleotide frequencies.\n",
    "- Determine the **consensus sequence**, which represents the most common nucleotides across motifs.\n",
    "\n",
    "### Contents:\n",
    "- Loading motif data\n",
    "- Computing the count matrix\n",
    "- Calculating the profile matrix\n",
    "- Extracting the consensus motif\n",
    "- (Optional) Visualizing the matrices for better interpretation\n",
    "\n",
    "This notebook is intended as a foundation for motif discovery tasks in bioinformatics and can be extended to include scoring functions, pseudocounts, motif search in sequences, and more.\n",
    "\n",
    "Count, Profile, Consensus function can be imported from motif.py file in the bin folder.\n"
   ]
  },
  {
   "cell_type": "code",
   "execution_count": null,
   "id": "e3729514-db8a-47d7-8a66-982eda9eb779",
   "metadata": {},
   "outputs": [],
   "source": [
    "import bin.motif as mt"
   ]
  },
  {
   "cell_type": "code",
   "execution_count": null,
   "id": "e3af17b4-8871-43bc-83be-db4783e304cb",
   "metadata": {},
   "outputs": [],
   "source": [
    "# create list of DNA motifs\n",
    "Motifs = [\n",
    "    \"TCGGGGGTTTTT\",\n",
    "    \"CCGGTGACTTAC\",\n",
    "    \"ACGGGGATTTTC\",\n",
    "    \"TTGGGGACTTTT\",\n",
    "    \"AAGGGGACTTCC\",\n",
    "    \"TTGGGGACTTCC\",\n",
    "    \"TCGGGGATTCAT\",\n",
    "    \"TCGGGGATTCCT\",\n",
    "    \"TAGGGGAACTAC\",\n",
    "    \"TCGGGTATAACC\"\n",
    "]"
   ]
  },
  {
   "cell_type": "code",
   "execution_count": null,
   "id": "73c7a624-05d2-41c4-a2d2-dc5661a780e1",
   "metadata": {},
   "outputs": [],
   "source": [
    "motif_count = mt.Count(Motifs)"
   ]
  },
  {
   "cell_type": "code",
   "execution_count": null,
   "id": "854693f8-d58d-44be-b1d2-c937b8bf4237",
   "metadata": {},
   "outputs": [],
   "source": [
    "motif_count"
   ]
  },
  {
   "cell_type": "markdown",
   "id": "fbd4a611-0afa-4474-a663-ebc9a9f38fa2",
   "metadata": {},
   "source": [
    "#### Visulaization of count matrix\n",
    "for better visulaization of count matrix we can use pandas module to convert count matrix dictionary into data fram"
   ]
  },
  {
   "cell_type": "code",
   "execution_count": null,
   "id": "6996e6e7-8c25-4780-9280-fa4e69038e7e",
   "metadata": {},
   "outputs": [],
   "source": [
    "import pandas as pd"
   ]
  },
  {
   "cell_type": "code",
   "execution_count": null,
   "id": "9bcc33b7-cd58-4dbb-8153-0d1a9bdb90c7",
   "metadata": {},
   "outputs": [],
   "source": [
    "motif_df = pd.DataFrame(motif_count).T"
   ]
  },
  {
   "cell_type": "code",
   "execution_count": null,
   "id": "43b55af1-2455-45df-a4bc-98e2a42d518c",
   "metadata": {},
   "outputs": [],
   "source": [
    "motif_df"
   ]
  },
  {
   "cell_type": "code",
   "execution_count": null,
   "id": "1460fd9c-3438-4f3b-ad66-ed973a0b9929",
   "metadata": {},
   "outputs": [],
   "source": [
    "mt.Profile(Motifs)"
   ]
  },
  {
   "cell_type": "code",
   "execution_count": null,
   "id": "35a4b3ae-b4ff-406b-bab3-c13a5957f8fd",
   "metadata": {},
   "outputs": [],
   "source": [
    "mt.Consensus(Motifs)"
   ]
  },
  {
   "cell_type": "code",
   "execution_count": null,
   "id": "81b0771a-ad2f-4e38-ae26-1e989e29a79b",
   "metadata": {},
   "outputs": [],
   "source": [
    "mt.Score(Motifs)"
   ]
  },
  {
   "cell_type": "code",
   "execution_count": null,
   "id": "0f0e798d-37be-4c87-b784-737e9bf896ad",
   "metadata": {},
   "outputs": [],
   "source": [
    "mt.Entropy(Motifs)"
   ]
  },
  {
   "cell_type": "code",
   "execution_count": null,
   "id": "452eec10-2d3c-4b34-9803-154f6d3e0ef6",
   "metadata": {},
   "outputs": [],
   "source": []
  }
 ],
 "metadata": {
  "kernelspec": {
   "display_name": "Python 3",
   "language": "python",
   "name": "python3"
  },
  "language_info": {
   "codemirror_mode": {
    "name": "ipython",
    "version": 3
   },
   "file_extension": ".py",
   "mimetype": "text/x-python",
   "name": "python",
   "nbconvert_exporter": "python",
   "pygments_lexer": "ipython3",
   "version": "3.11.1"
  }
 },
 "nbformat": 4,
 "nbformat_minor": 5
}
